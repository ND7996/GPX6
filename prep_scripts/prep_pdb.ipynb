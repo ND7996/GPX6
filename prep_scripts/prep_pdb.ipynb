{
 "cells": [
  {
   "cell_type": "code",
   "execution_count": 1,
   "metadata": {},
   "outputs": [
    {
     "name": "stdout",
     "output_type": "stream",
     "text": [
      "Added OG atom to SER at residue 47 with coords [36.658000549316405, 30.986999588012694, 18.88800051879883]\n",
      "Mutated PDB saved to /home/hp/nayanika/github/GPX6/prep_structures/A47S.pdb\n",
      "All mutations completed successfully.\n"
     ]
    }
   ],
   "source": [
    "import os\n",
    "from Bio.PDB import PDBParser, PDBIO, Select, Atom\n",
    "\n",
    "# Directory containing PDB files\n",
    "pdb_dir = \"/home/hp/nayanika/github/GPX6/prep_structures/\"\n",
    "output_dir = \"/home/hp/nayanika/github/GPX6/prep_structures/\"\n",
    "os.makedirs(output_dir, exist_ok=True)\n",
    "\n",
    "# List of PDB files\n",
    "pdb_files = [\"original_humansec.pdb\"]\n",
    "\n",
    "# List of mutations (residue_number, new_residue)\n",
    "mutations = {\n",
    "    47: \"SER\",  # Mutate residue at position 47 to Serine\n",
    "}\n",
    "\n",
    "class MutateSelect(Select):\n",
    "    def __init__(self, mutations):\n",
    "        self.mutations = mutations\n",
    "\n",
    "    def accept_residue(self, residue):\n",
    "        res_id = residue.get_id()[1]\n",
    "        if res_id in self.mutations:\n",
    "            new_residue = self.mutations[res_id]\n",
    "            residue.resname = new_residue\n",
    "            \n",
    "            # If mutating to SER, ensure the OG atom is present\n",
    "            if new_residue == \"SER\":\n",
    "                self.ensure_ser_og(residue)\n",
    "                \n",
    "        return True\n",
    "\n",
    "    def ensure_ser_og(self, residue):\n",
    "        \"\"\"Ensure OG atom is present in Serine (SER) residue.\"\"\"\n",
    "        atom_names = [atom.get_name() for atom in residue]\n",
    "        if \"OG\" not in atom_names:\n",
    "            cb = residue['CB']\n",
    "            # Manually adding OG atom coordinates based on CB atom\n",
    "            og_coords = [cb.coord[0] - 1.341, cb.coord[1] + 0.33, cb.coord[2] + 0.132]  # Offset values to simulate OG position\n",
    "            og_atom = Atom.Atom(\n",
    "                \"OG\", og_coords, 1.0, 1.0, \" \", \"OG\", residue.get_id()[1], element=\"O\"\n",
    "            )\n",
    "            residue.add(og_atom)\n",
    "            print(f\"Added OG atom to SER at residue {residue.get_id()[1]} with coords {og_coords}\")\n",
    "\n",
    "# Function to mutate residues in a PDB file\n",
    "def mutate_pdb(pdb_file, output_file, mutations):\n",
    "    parser = PDBParser(QUIET=True)\n",
    "    structure = parser.get_structure(\"protein\", pdb_file)\n",
    "    \n",
    "    io = PDBIO()\n",
    "    io.set_structure(structure)\n",
    "    \n",
    "    # Save the mutated structure without removing any atoms\n",
    "    io.save(output_file, MutateSelect(mutations))\n",
    "    print(f\"Mutated PDB saved to {output_file}\")\n",
    "\n",
    "# Apply mutations to all PDB files\n",
    "for pdb_file in pdb_files:\n",
    "    pdb_path = os.path.join(pdb_dir, pdb_file)\n",
    "    output_path = os.path.join(output_dir, \"A47S.pdb\")\n",
    "    mutate_pdb(pdb_path, output_path, mutations)\n",
    "\n",
    "print(\"All mutations completed successfully.\")\n"
   ]
  }
 ],
 "metadata": {
  "kernelspec": {
   "display_name": "openMM",
   "language": "python",
   "name": "python3"
  },
  "language_info": {
   "codemirror_mode": {
    "name": "ipython",
    "version": 3
   },
   "file_extension": ".py",
   "mimetype": "text/x-python",
   "name": "python",
   "nbconvert_exporter": "python",
   "pygments_lexer": "ipython3",
   "version": "3.8.18"
  }
 },
 "nbformat": 4,
 "nbformat_minor": 2
}
