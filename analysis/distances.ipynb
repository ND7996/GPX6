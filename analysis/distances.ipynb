{
 "cells": [
  {
   "cell_type": "code",
   "execution_count": 5,
   "metadata": {},
   "outputs": [
    {
     "name": "stdout",
     "output_type": "stream",
     "text": [
      "    Residue Number  Distance (Å)\n",
      "0                3         21.63\n",
      "1                4         19.64\n",
      "2               16         27.12\n",
      "3               22         22.91\n",
      "4               24         18.69\n",
      "5               25         20.70\n",
      "6               27         24.28\n",
      "7               29         26.66\n",
      "8               30         26.67\n",
      "9               31         28.12\n",
      "10              33         30.54\n",
      "11              35         28.03\n",
      "12              40         23.17\n",
      "13              47          5.59\n",
      "14              48          3.88\n",
      "15              52          5.20\n",
      "16              54         10.00\n",
      "17              60         19.05\n",
      "18              67         30.74\n",
      "19              69         27.97\n",
      "20              71         23.11\n",
      "21              74         14.29\n",
      "22              87         16.44\n",
      "23              99          9.50\n",
      "24             102         16.77\n",
      "25             104         16.10\n",
      "26             107         19.80\n",
      "27             119         23.30\n",
      "28             120         22.14\n",
      "29             126         23.16\n",
      "30             137         21.60\n",
      "31             139         16.28\n",
      "32             142         16.44\n",
      "33             143         15.29\n",
      "34             144         11.60\n",
      "35             148         20.84\n",
      "36             173         20.19\n",
      "37             177         11.51\n",
      "38             178         14.81\n",
      "39             181         19.54\n",
      "40             182         20.11\n",
      "41             184         21.90\n",
      "42             188         27.64\n",
      "43             192         33.41\n",
      "44             194         34.61\n",
      "45             195         35.43\n",
      "Data saved to 'extracted_distances.csv'\n"
     ]
    }
   ],
   "source": [
    "import pandas as pd\n",
    "\n",
    "# Data for residues and distances\n",
    "residue_numbers = [\n",
    "    3, 4, 16, 22, 24, 25, 27, 29, 30, 31,\n",
    "    33, 35, 40, 47, 48, 52, 54, 60, 67, 69,\n",
    "    71, 74, 87, 99, 102, 104, 107, 119, 120,\n",
    "    126, 137, 139, 142, 143, 144, 148, 173, 177,\n",
    "    178, 181, 182, 184, 188, 192, 194, 195\n",
    "]\n",
    "distances = [\n",
    "    21.63, 19.64, 27.12, 22.91, 18.69, 20.70, 24.28, 26.66, 26.67, 28.12,\n",
    "    30.54, 28.03, 23.17, 5.59, 3.88, 5.20, 10.00, 19.05, 30.74, 27.97,\n",
    "    23.11, 14.29, 16.44, 9.50, 16.77, 16.10, 19.80, 23.30, 22.14, 23.16,\n",
    "    21.60, 16.28, 16.44, 15.29, 11.60, 20.84, 20.19, 11.51, 14.81, 19.54,\n",
    "    20.11, 21.90, 27.64, 33.41, 34.61, 35.43\n",
    "]\n",
    "\n",
    "# Create a DataFrame\n",
    "df = pd.DataFrame({\n",
    "    'Residue Number': residue_numbers,\n",
    "    'Distance (Å)': distances\n",
    "})\n",
    "\n",
    "# Display the DataFrame\n",
    "print(df)\n",
    "\n",
    "# Optional: Save the DataFrame to a CSV file\n",
    "df.to_csv('extracted_distances.csv', index=False)\n",
    "\n",
    "print(\"Data saved to 'extracted_distances.csv'\")\n"
   ]
  }
 ],
 "metadata": {
  "kernelspec": {
   "display_name": "openMM",
   "language": "python",
   "name": "python3"
  },
  "language_info": {
   "codemirror_mode": {
    "name": "ipython",
    "version": 3
   },
   "file_extension": ".py",
   "mimetype": "text/x-python",
   "name": "python",
   "nbconvert_exporter": "python",
   "pygments_lexer": "ipython3",
   "version": "3.8.18"
  }
 },
 "nbformat": 4,
 "nbformat_minor": 2
}
