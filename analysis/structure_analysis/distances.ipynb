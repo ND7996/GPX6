{
 "cells": [
  {
   "cell_type": "code",
   "execution_count": 4,
   "metadata": {},
   "outputs": [
    {
     "name": "stdout",
     "output_type": "stream",
     "text": [
      "Residue 196 not found or does not have a CA atom.\n",
      "Residue 197 not found or does not have a CA atom.\n",
      "Distances saved to /home/hp/nayanika/github/GPX6/table/mouse_dist.csv\n"
     ]
    }
   ],
   "source": [
    "import csv\n",
    "from Bio.PDB import PDBParser\n",
    "import numpy as np\n",
    "\n",
    "# Input PDB file path\n",
    "pdb_file = \"/home/hp/nayanika/github/GPX6/prep_structures/original_mousecys.pdb\"\n",
    "\n",
    "# Output CSV file path\n",
    "csv_file_path = \"/home/hp/nayanika/github/GPX6/table/mouse_dist.csv\"\n",
    "\n",
    "# Residue mapping table (Position, Human Cys, Mouse Cys)\n",
    "selected_residues = [\n",
    "    (3, 'N', 'K'), (4, 'R', 'S'), (16, 'I', 'V'), (22, 'L', 'N'), (24, 'L', 'I'),\n",
    "    (25, 'N', 'D'), (27, 'E', 'G'), (29, 'Y', 'F'), (30, 'I', 'V'), (31, 'Q', 'N'),\n",
    "    (33, 'K', 'Q'), (35, 'F', 'Y'), (40, 'V', 'I'), (47, 'A', 'S'), (48, 'Y', 'F'),\n",
    "    (52, 'A', 'T'), (54, 'Q', 'T'), (60, 'A', 'T'), (67, 'N', 'P'), (69, 'G', 'N'),\n",
    "    (71, 'I', 'T'), (74, 'A', 'G'), (87, 'T', 'K'), (99, 'C', 'R'), (102, 'S', 'G'),\n",
    "    (104, 'F', 'Y'), (107, 'S', 'N'), (119, 'E', 'D'), (120, 'K', 'N'), (126, 'T', 'S'),\n",
    "    (137, 'D', 'E'), (139, 'L', 'F'), (142, 'S', 'P'), (143, 'S', 'E'), (144, 'Q', 'H'),\n",
    "    (148, 'E', 'D'), (173, 'H', 'R'), (177, 'Q', 'H'), (178, 'A', 'T'), (181, 'S', 'R'),\n",
    "    (182, 'T', 'I'), (184, 'K', 'Q'), (188, 'L', 'M'), (192, 'K', 'N'), (194, 'F', 'T'),\n",
    "    (195, 'N', 'S'), (196, 'T', '-'), (197, 'H', '-')\n",
    "]\n",
    "\n",
    "def get_residue_ca_coord(structure, chain_id, res_id):\n",
    "    \"\"\"Extract the C-alpha (CA) coordinate of a given residue.\"\"\"\n",
    "    try:\n",
    "        residue = structure[0][chain_id][res_id]\n",
    "        ca_atom = residue['CA']\n",
    "        return np.array(ca_atom.coord)\n",
    "    except KeyError:\n",
    "        print(f\"Residue {res_id} not found or does not have a CA atom.\")\n",
    "        return None\n",
    "\n",
    "# Load the PDB structure\n",
    "parser = PDBParser(QUIET=True)\n",
    "structure = parser.get_structure(\"protein\", pdb_file)\n",
    "\n",
    "# Define the chain where residue 49 is located (assuming it's on Chain X)\n",
    "chain_id = 'X'\n",
    "reference_residue_id = 49  # Residue to measure distances from (C-alpha of 49)\n",
    "\n",
    "# Get the C-alpha coordinate of residue 49\n",
    "ref_coord = get_residue_ca_coord(structure, chain_id, reference_residue_id)\n",
    "if ref_coord is None:\n",
    "    raise ValueError(\"Could not find the C-alpha coordinate for residue 49.\")\n",
    "\n",
    "# Calculate distances to selected residues\n",
    "distances = []\n",
    "for pos, human_res, mouse_res in selected_residues:\n",
    "    target_coord = get_residue_ca_coord(structure, chain_id, pos)\n",
    "    if target_coord is not None:\n",
    "        distance = np.linalg.norm(ref_coord - target_coord)\n",
    "        distances.append((pos, human_res, mouse_res, distance))\n",
    "\n",
    "# Save the distances to a CSV file\n",
    "with open(csv_file_path, mode='w', newline='') as file:\n",
    "    writer = csv.writer(file)\n",
    "    writer.writerow([\"Position\", \"Human Cys\", \"Mouse Cys\", \"Distance (Å)\"])\n",
    "    for pos, human_res, mouse_res, dist in distances:\n",
    "        writer.writerow([pos, human_res, mouse_res, f\"{dist:.2f}\"])\n",
    "\n",
    "print(f\"Distances saved to {csv_file_path}\")\n"
   ]
  }
 ],
 "metadata": {
  "kernelspec": {
   "display_name": "openMM",
   "language": "python",
   "name": "python3"
  },
  "language_info": {
   "codemirror_mode": {
    "name": "ipython",
    "version": 3
   },
   "file_extension": ".py",
   "mimetype": "text/x-python",
   "name": "python",
   "nbconvert_exporter": "python",
   "pygments_lexer": "ipython3",
   "version": "3.8.18"
  }
 },
 "nbformat": 4,
 "nbformat_minor": 2
}
