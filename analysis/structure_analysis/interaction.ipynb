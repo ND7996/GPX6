{
 "cells": [
  {
   "cell_type": "code",
   "execution_count": 3,
   "metadata": {},
   "outputs": [
    {
     "name": "stdout",
     "output_type": "stream",
     "text": [
      "File saved to /home/hp/nayanika/github/GPX6/prep_structures/interactions_residue_47_chain_X.pdb\n"
     ]
    }
   ],
   "source": [
    "# Import PyMOL modules\n",
    "from pymol import cmd\n",
    "\n",
    "# Start PyMOL (optional: you can also directly use the command if PyMOL is open)\n",
    "cmd.reinitialize()\n",
    "\n",
    "# Load the PDB structure\n",
    "cmd.load(\"/home/hp/nayanika/github/GPX6/prep_structures/original_mousecys.pdb\")\n",
    "\n",
    "# Define the residue of interest and cutoff distance\n",
    "residue_of_interest = \"resi 47 and chain X\"\n",
    "cutoff_distance = 5.0\n",
    "\n",
    "# Select atoms within the cutoff distance from the residue of interest\n",
    "cmd.select(\"interacting_atoms\", f\"br. all within {cutoff_distance} of ({residue_of_interest})\")\n",
    "\n",
    "# Show the residue and interacting atoms\n",
    "cmd.show(\"sticks\", residue_of_interest)\n",
    "cmd.show(\"spheres\", \"interacting_atoms\")\n",
    "\n",
    "# Color the residue and interacting atoms for better contrast\n",
    "cmd.color(\"yellow\", residue_of_interest)  # Color the residue yellow\n",
    "cmd.color(\"red\", \"interacting_atoms\")     # Color interacting atoms red\n",
    "\n",
    "# Zoom into the residue and the interacting atoms\n",
    "cmd.zoom(f\"{residue_of_interest} or interacting_atoms\")\n",
    "\n",
    "# Optional: Show the entire structure as cartoon\n",
    "cmd.show(\"cartoon\", \"all\")\n",
    "cmd.hide(\"lines\", \"all\")  # Hide default line representation for clarity\n",
    "\n",
    "# Save the selected residue and interacting atoms as a new PDB file\n",
    "output_path = \"/home/hp/nayanika/github/GPX6/prep_structures/interactions_residue_47_chain_X.pdb\"\n",
    "cmd.save(output_path, f\"{residue_of_interest} or interacting_atoms\")\n",
    "\n",
    "print(f\"File saved to {output_path}\")\n"
   ]
  }
 ],
 "metadata": {
  "kernelspec": {
   "display_name": "openMM",
   "language": "python",
   "name": "python3"
  },
  "language_info": {
   "codemirror_mode": {
    "name": "ipython",
    "version": 3
   },
   "file_extension": ".py",
   "mimetype": "text/x-python",
   "name": "python",
   "nbconvert_exporter": "python",
   "pygments_lexer": "ipython3",
   "version": "3.8.18"
  }
 },
 "nbformat": 4,
 "nbformat_minor": 2
}
