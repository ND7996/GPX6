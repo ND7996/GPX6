{
 "cells": [
  {
   "cell_type": "code",
   "execution_count": 1,
   "id": "0436526a",
   "metadata": {},
   "outputs": [
    {
     "name": "stdout",
     "output_type": "stream",
     "text": [
      "All combinations ranked from best to worst (lowest to highest value):\n",
      "1. 49Sec + 54 + 24 + 139 + 47 + 60 + 74 + 144: 12.5\n",
      "2. 49Sec + 54 + 24 + 139 + 47 + 60 + 74: 12.98\n",
      "3. 49Sec + 54 + 24: 13.99\n",
      "4. 49Sec + 54 + 24 + 139 + 47: 14.35\n",
      "5. 49Sec + 54 + 24 + 139 + 47 + 60: 14.37\n",
      "6. 49Cys + 54: 14.62\n",
      "7. 49Sec + 54: 14.84\n",
      "8. 49Sec + 54 + 24 + 139: 15.42\n",
      "9. 49Cys: 17.68\n"
     ]
    }
   ],
   "source": [
    "#!/usr/bin/env python3\n",
    "\n",
    "def generate_combinations(components, values):\n",
    "    \"\"\"\n",
    "    Generate combinations based on the greedy algorithm path.\n",
    "    \n",
    "    Args:\n",
    "        components (list): List of components in the order they are added\n",
    "        values (list): List of corresponding values for each combination\n",
    "    \n",
    "    Returns:\n",
    "        list: List of tuples containing (combination string, value)\n",
    "    \"\"\"\n",
    "    results = []\n",
    "    \n",
    "    # Add each component and its value\n",
    "    for i in range(len(components)):\n",
    "        if i < len(values):\n",
    "            results.append((components[i], values[i]))\n",
    "    \n",
    "    return results\n",
    "\n",
    "def rank_combinations(results):\n",
    "    \"\"\"\n",
    "    Rank combinations from best to worst (lowest to highest value).\n",
    "    \n",
    "    Args:\n",
    "        results (list): List of (combination, value) tuples\n",
    "    \n",
    "    Returns:\n",
    "        list: Sorted list of (combination, value) tuples\n",
    "    \"\"\"\n",
    "    return sorted(results, key=lambda x: x[1])\n",
    "\n",
    "def main():\n",
    "    # Updated input data\n",
    "    components = [\n",
    "        \"49Cys\",\n",
    "        \"49Cys + 54\",\n",
    "        \"49Sec + 54\",\n",
    "        \"49Sec + 54 + 24\",\n",
    "        \"49Sec + 54 + 24 + 139\",\n",
    "        \"49Sec + 54 + 24 + 139 + 47\",\n",
    "        \"49Sec + 54 + 24 + 139 + 47 + 60\",\n",
    "        \"49Sec + 54 + 24 + 139 + 47 + 60 + 74\",\n",
    "        \"49Sec + 54 + 24 + 139 + 47 + 60 + 74 + 144\"\n",
    "    ]\n",
    "    \n",
    "    values = [17.68, 14.62, 14.84, 13.99, 15.42, 14.35, 14.37, 12.98, 12.50]\n",
    "    \n",
    "    # Generate combinations\n",
    "    results = generate_combinations(components, values)\n",
    "    \n",
    "    # Rank combinations from best to worst\n",
    "    ranked_results = rank_combinations(results)\n",
    "    \n",
    "    # Print all combinations ranked from best to worst\n",
    "    print(\"All combinations ranked from best to worst (lowest to highest value):\")\n",
    "    for i, (combination, value) in enumerate(ranked_results, 1):\n",
    "        print(f\"{i}. {combination}: {value}\")\n",
    "\n",
    "if __name__ == \"__main__\":\n",
    "    main()"
   ]
  }
 ],
 "metadata": {
  "kernelspec": {
   "display_name": "base",
   "language": "python",
   "name": "python3"
  },
  "language_info": {
   "codemirror_mode": {
    "name": "ipython",
    "version": 3
   },
   "file_extension": ".py",
   "mimetype": "text/x-python",
   "name": "python",
   "nbconvert_exporter": "python",
   "pygments_lexer": "ipython3",
   "version": "3.12.3"
  }
 },
 "nbformat": 4,
 "nbformat_minor": 5
}
