{
 "cells": [
  {
   "cell_type": "code",
   "execution_count": 5,
   "id": "e4af6aff",
   "metadata": {},
   "outputs": [
    {
     "name": "stdout",
     "output_type": "stream",
     "text": [
      "All combinations ranked from best to worst (lowest to highest value):\n",
      "1. 49sec + 87 + 99: 14.16\n",
      "2. 49sec + 87 + 99 + 47 + 143 + 60 + 104 + 142: 14.27\n",
      "3. 49sec + 87 + 99 + 47: 14.42\n",
      "4. 49sec + 87 + 99 + 47 + 143: 14.53\n",
      "5. 49sec + 87 + 99 + 47 + 143 + 60 + 104: 15.43\n",
      "6. 49sec + 87: 15.61\n",
      "7. 49sec + 87 + 99 + 47 + 143 + 60: 16.14\n",
      "8. 49sec: 16.4\n"
     ]
    }
   ],
   "source": [
    "#!/usr/bin/env python3\n",
    "\n",
    "def generate_combinations(components, values):\n",
    "    \"\"\"\n",
    "    Generate combinations based on the greedy algorithm path.\n",
    "    \n",
    "    Args:\n",
    "        components (list): List of components in the order they are added\n",
    "        values (list): List of corresponding values for each combination\n",
    "    \n",
    "    Returns:\n",
    "        list: List of tuples containing (combination string, value)\n",
    "    \"\"\"\n",
    "    results = []\n",
    "    current_combination = components[0]\n",
    "    \n",
    "    # Add the first component and its value\n",
    "    results.append((current_combination, values[0]))\n",
    "    \n",
    "    # Add each subsequent component and its value\n",
    "    for i in range(1, len(components)):\n",
    "        if i < len(values):\n",
    "            current_combination = current_combination + \" + \" + components[i]\n",
    "            results.append((current_combination, values[i]))\n",
    "    \n",
    "    return results\n",
    "\n",
    "def rank_combinations(results):\n",
    "    \"\"\"\n",
    "    Rank combinations from best to worst (lowest to highest value).\n",
    "    \n",
    "    Args:\n",
    "        results (list): List of (combination, value) tuples\n",
    "    \n",
    "    Returns:\n",
    "        list: Sorted list of (combination, value) tuples\n",
    "    \"\"\"\n",
    "    return sorted(results, key=lambda x: x[1])\n",
    "\n",
    "def main():\n",
    "    # Input data from your example\n",
    "    components = [\"49sec\", \"87\", \"99\", \"47\", \"143\", \"60\", \"104\", \"142\"]\n",
    "    values = [16.4, 15.61, 14.16, 14.42, 14.53, 16.14, 15.43, 14.27]\n",
    "    \n",
    "    # Generate combinations\n",
    "    results = generate_combinations(components, values)\n",
    "    \n",
    "    # Rank combinations from best to worst\n",
    "    ranked_results = rank_combinations(results)\n",
    "    \n",
    "    # Print all combinations ranked from best to worst\n",
    "    print(\"All combinations ranked from best to worst (lowest to highest value):\")\n",
    "    for i, (combination, value) in enumerate(ranked_results, 1):\n",
    "        print(f\"{i}. {combination}: {value}\")\n",
    "\n",
    "if __name__ == \"__main__\":\n",
    "    main()"
   ]
  }
 ],
 "metadata": {
  "kernelspec": {
   "display_name": "base",
   "language": "python",
   "name": "python3"
  },
  "language_info": {
   "codemirror_mode": {
    "name": "ipython",
    "version": 3
   },
   "file_extension": ".py",
   "mimetype": "text/x-python",
   "name": "python",
   "nbconvert_exporter": "python",
   "pygments_lexer": "ipython3",
   "version": "3.12.3"
  }
 },
 "nbformat": 4,
 "nbformat_minor": 5
}
