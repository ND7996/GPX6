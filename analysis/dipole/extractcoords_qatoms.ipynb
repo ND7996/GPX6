{
 "cells": [
  {
   "cell_type": "code",
   "execution_count": 1,
   "metadata": {},
   "outputs": [
    {
     "name": "stderr",
     "output_type": "stream",
     "text": [
      "/home/hp/miniconda3/lib/python3.12/site-packages/tqdm/auto.py:21: TqdmWarning: IProgress not found. Please update jupyter and ipywidgets. See https://ipywidgets.readthedocs.io/en/stable/user_install.html\n",
      "  from .autonotebook import tqdm as notebook_tqdm\n"
     ]
    },
    {
     "name": "stderr",
     "output_type": "stream",
     "text": [
      "/home/hp/miniconda3/lib/python3.12/site-packages/MDAnalysis/topology/PDBParser.py:350: UserWarning: Element information is missing, elements attribute will not be populated. If needed these can be guessed using universe.guess_TopologyAttrs(context='default', to_guess=['elements']).\n",
      "  warnings.warn(\"Element information is missing, elements attribute \"\n",
      "/home/hp/miniconda3/lib/python3.12/site-packages/MDAnalysis/coordinates/DCD.py:165: DeprecationWarning: DCDReader currently makes independent timesteps by copying self.ts while other readers update self.ts inplace. This behavior will be changed in 3.0 to be the same as other readers. Read more at https://github.com/MDAnalysis/mdanalysis/issues/3889 to learn if this change in behavior might affect you.\n",
      "  warnings.warn(\"DCDReader currently makes independent timesteps\"\n"
     ]
    },
    {
     "name": "stdout",
     "output_type": "stream",
     "text": [
      "Saved: /home/hp/results/MOUSE/level1/F139L/replica000/reactant.csv\n",
      "Saved: /home/hp/results/MOUSE/level1/F139L/replica000/product.csv\n"
     ]
    }
   ],
   "source": [
    "import MDAnalysis as mda\n",
    "import pandas as pd\n",
    "\n",
    "# File paths\n",
    "pdb_file = \"/home/hp/results/MOUSE/level1/F139L/minim/minim.pdb\"\n",
    "dcd_reactant = \"/home/hp/results/MOUSE/level1/F139L/replica000/fep_000_1.000.dcd\"\n",
    "dcd_product = \"/home/hp/results/MOUSE/level1/F139L/replica000/fep_050_0.000.dcd\"\n",
    "output_reactant = \"/home/hp/results/MOUSE/level1/F139L/replica000/reactant.csv\"\n",
    "output_product = \"/home/hp/results/MOUSE/level1/F139L/replica000/product.csv\"\n",
    "\n",
    "# Atoms to extract\n",
    "atom_selection = [\n",
    "    \"49@SG\", \"49@HG1\", \"49@CB\", \"49@HB1\", \"49@HB2\", \"49@CA\", \"49@HA\", \"49@N\", \"49@HN\",\n",
    "    \"196@O1\", \"196@O2\", \"196@H1\", \"196@H2\",\n",
    "    \"83@NE2\", \"83@HE21\", \"83@HE22\", \"83@CD\", \"83@OE1\", \"83@CB\", \"83@HB1\", \"83@HB2\", \"83@CG\", \"83@HG1\", \"83@HG2\"\n",
    "]\n",
    "\n",
    "def extract_coordinates(dcd_file, output_file):\n",
    "    u = mda.Universe(pdb_file, dcd_file)\n",
    "    selected_atoms = [u.select_atoms(f\"resid {a.split('@')[0]} and name {a.split('@')[1]}\") for a in atom_selection]\n",
    "    \n",
    "    data = []\n",
    "    for ts in u.trajectory:\n",
    "        frame_data = [ts.frame]\n",
    "        for atom_group in selected_atoms:\n",
    "            if len(atom_group) > 0:\n",
    "                frame_data.extend(atom_group.positions[0])\n",
    "            else:\n",
    "                frame_data.extend([None, None, None])  # Placeholder for missing atoms\n",
    "        data.append(frame_data)\n",
    "    \n",
    "    headers = [\"Frame\"] + [f\"{a}_x\" for a in atom_selection] + [f\"{a}_y\" for a in atom_selection] + [f\"{a}_z\" for a in atom_selection]\n",
    "    df = pd.DataFrame(data, columns=headers)\n",
    "    df.to_csv(output_file, index=False)\n",
    "    print(f\"Saved: {output_file}\")\n",
    "\n",
    "# Extract coordinates\n",
    "extract_coordinates(dcd_reactant, output_reactant)\n",
    "extract_coordinates(dcd_product, output_product)\n"
   ]
  }
 ],
 "metadata": {
  "kernelspec": {
   "display_name": "base",
   "language": "python",
   "name": "python3"
  },
  "language_info": {
   "codemirror_mode": {
    "name": "ipython",
    "version": 3
   },
   "file_extension": ".py",
   "mimetype": "text/x-python",
   "name": "python",
   "nbconvert_exporter": "python",
   "pygments_lexer": "ipython3",
   "version": "3.12.9"
  }
 },
 "nbformat": 4,
 "nbformat_minor": 2
}
