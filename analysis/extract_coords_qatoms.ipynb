{
 "cells": [
  {
   "cell_type": "code",
   "execution_count": 4,
   "metadata": {},
   "outputs": [
    {
     "name": "stdout",
     "output_type": "stream",
     "text": [
      "Skipping /home/hp/results/MOUSE/level1/N107S/replica000/fep_050_0.000.dcd, file not found.\n",
      "Skipping /home/hp/results/MOUSE/level1/R181S/replica000/fep_025_0.500.dcd, file not found.\n",
      "Skipping /home/hp/results/MOUSE/level1/R181S/replica000/fep_050_0.000.dcd, file not found.\n",
      "Skipping /home/hp/results/MOUSE/level1/S47A/replica000/fep_050_0.000.dcd, file not found.\n",
      "Skipping /home/hp/results/MOUSE/level1/K87T/replica000/fep_025_0.500.dcd, file not found.\n",
      "Skipping /home/hp/results/MOUSE/level1/K87T/replica000/fep_050_0.000.dcd, file not found.\n",
      "Skipping /home/hp/results/MOUSE/level1/P142S/replica000/fep_050_0.000.dcd, file not found.\n",
      "Skipping /home/hp/results/MOUSE/level1/R99C/replica000/fep_050_0.000.dcd, file not found.\n",
      "Skipping /home/hp/results/MOUSE/level1/T54Q/replica000/fep_000_1.000.dcd, file not found.\n",
      "Skipping /home/hp/results/MOUSE/level1/T54Q/replica000/fep_025_0.500.dcd, file not found.\n",
      "Skipping /home/hp/results/MOUSE/level1/T54Q/replica000/fep_050_0.000.dcd, file not found.\n"
     ]
    }
   ],
   "source": [
    "import MDAnalysis as mda\n",
    "import pandas as pd\n",
    "import os\n",
    "\n",
    "def extract_coords(dcd_file, pdb_file, output_file, atom_indices):\n",
    "    if not os.path.exists(dcd_file):\n",
    "        print(f\"Skipping {dcd_file}, file not found.\")\n",
    "        return\n",
    "    \n",
    "    u = mda.Universe(pdb_file, dcd_file)\n",
    "    data = []\n",
    "    \n",
    "    for ts in u.trajectory:\n",
    "        frame_data = [ts.frame]\n",
    "        for idx in atom_indices:\n",
    "            atom = u.atoms[idx]\n",
    "            frame_data.extend([atom.position[0], atom.position[1], atom.position[2]])\n",
    "        data.append(frame_data)\n",
    "    \n",
    "    columns = [\"Frame\"] + [f\"Atom_{idx+1}_{coord}\" for idx in atom_indices for coord in [\"x\", \"y\", \"z\"]]\n",
    "    df = pd.DataFrame(data, columns=columns)\n",
    "    df.to_csv(output_file, index=False)\n",
    "\n",
    "# Define atom indices (0-based)\n",
    "atom_indices = [48, 82, 195]  # Convert from 1-based to 0-based indexing\n",
    "\n",
    "# Base directory\n",
    "base_dir = \"/home/hp/results/MOUSE/level1\"\n",
    "\n",
    "# List of mutant folders\n",
    "mutants = [\"E143S\", \"F48Y\", \"H144Q\", \"I24L\", \"N107S\", \"R181S\", \"S47A\", \"T52A\", \"T60A\",\n",
    "           \"D148E\", \"F139L\", \"G102S\", \"H177Q\", \"K87T\", \"P142S\", \"R99C\", \"S4R\", \"T178A\", \"T54Q\", \"Y104F\"]\n",
    "\n",
    "for mutant in mutants:\n",
    "    replica_dir = os.path.join(base_dir, mutant, \"replica000\")\n",
    "    pdb_file = os.path.join(base_dir, mutant, \"minim\", \"minim.pdb\")\n",
    "    \n",
    "    files = {\n",
    "        os.path.join(replica_dir, \"reactant.csv\"): os.path.join(replica_dir, \"fep_000_1.000.dcd\"),\n",
    "        os.path.join(replica_dir, \"transition.csv\"): os.path.join(replica_dir, \"fep_025_0.500.dcd\"),\n",
    "        os.path.join(replica_dir, \"product.csv\"): os.path.join(replica_dir, \"fep_050_0.000.dcd\")\n",
    "    }\n",
    "    \n",
    "    for output_file, dcd_file in files.items():\n",
    "        extract_coords(dcd_file, pdb_file, output_file, atom_indices)\n"
   ]
  }
 ],
 "metadata": {
  "kernelspec": {
   "display_name": "openMM",
   "language": "python",
   "name": "python3"
  },
  "language_info": {
   "codemirror_mode": {
    "name": "ipython",
    "version": 3
   },
   "file_extension": ".py",
   "mimetype": "text/x-python",
   "name": "python",
   "nbconvert_exporter": "python",
   "pygments_lexer": "ipython3",
   "version": "3.8.18"
  }
 },
 "nbformat": 4,
 "nbformat_minor": 2
}
