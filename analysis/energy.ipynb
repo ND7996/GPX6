{
 "cells": [
  {
   "cell_type": "code",
   "execution_count": 8,
   "metadata": {},
   "outputs": [],
   "source": [
    "import matplotlib.pyplot as plt\n",
    "import json\n",
    "import math\n",
    "import os\n",
    "\n",
    "# Load data from JSON file\n",
    "with open('/home/hp/results/C49U/S47A/qaf.PlotData.json', 'r') as f:\n",
    "    data = json.load(f)\n",
    "\n",
    "# Define colors for each subplot (using a diverse color palette)\n",
    "colors = ['maroon', 'blue', 'green', 'purple', 'red', 'orange', 'cyan', 'black']  # More colors added\n",
    "\n",
    "# Define the number of subplots\n",
    "num_plots = len(data)\n",
    "\n",
    "# Define the maximum number of subplots per row\n",
    "max_cols = 4  # Adjust based on your preference for columns per row\n",
    "num_rows = math.ceil(num_plots / max_cols)  # Calculate rows dynamically\n",
    "\n",
    "# Create a figure with multiple subplots arranged in grid (rows and columns)\n",
    "fig, axes = plt.subplots(num_rows, max_cols, figsize=(40, 10 * num_rows))  # Larger figsize for publication quality\n",
    "axes = axes.flatten()  # Flatten axes for easy iteration\n",
    "\n",
    "# Iterate over each plot in the data and assign a subplot\n",
    "for i, (key, value) in enumerate(data.items()):\n",
    "    for j, (subplot_key, subplot_value) in enumerate(value['subplots'].items()):\n",
    "        x = subplot_value['xdata']\n",
    "        y = subplot_value['ydata']\n",
    "\n",
    "        # Plot the data\n",
    "        axes[i].plot(x, y, color=colors[j % len(colors)], linewidth=2)\n",
    "\n",
    "        # Set title and labels for clarity\n",
    "        axes[i].set_title(value.get('title', 'No Title'), fontsize=14, fontweight='bold')\n",
    "        axes[i].set_xlabel('E1-E2 [kcal/mol]', fontsize=12)\n",
    "        axes[i].set_ylabel('Free energy [kcal/mol]', fontsize=12)\n",
    "\n",
    "        # Add grid for better visibility\n",
    "        axes[i].grid(True, linestyle='--', alpha=0.7)\n",
    "\n",
    "# Hide any unused subplots (if num_plots < num_rows * max_cols)\n",
    "for ax in axes[num_plots:]:\n",
    "    ax.set_visible(False)\n",
    "\n",
    "# Adjust spacing between subplots for clarity\n",
    "plt.subplots_adjust(left=0.05, right=0.95, top=0.95, bottom=0.05, wspace=0.3, hspace=0.4)\n",
    "\n",
    "# Ensure the folder exists before saving\n",
    "output_dir = '/home/hp/nayanika/github/GPX6/figures/S47A'\n",
    "os.makedirs(output_dir, exist_ok=True)\n",
    "\n",
    "# Save the figure with a higher DPI for publication\n",
    "plt.savefig(os.path.join(output_dir, 'S47A_FreeEnergyProfile.png'), dpi=100)  # High DPI for publication quality\n",
    "\n",
    "# Close the figure to free memory\n",
    "plt.close(fig)\n"
   ]
  }
 ],
 "metadata": {
  "kernelspec": {
   "display_name": "openMM",
   "language": "python",
   "name": "python3"
  },
  "language_info": {
   "codemirror_mode": {
    "name": "ipython",
    "version": 3
   },
   "file_extension": ".py",
   "mimetype": "text/x-python",
   "name": "python",
   "nbconvert_exporter": "python",
   "pygments_lexer": "ipython3",
   "version": "3.8.18"
  }
 },
 "nbformat": 4,
 "nbformat_minor": 2
}
