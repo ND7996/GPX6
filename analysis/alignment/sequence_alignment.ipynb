{
 "cells": [
  {
   "cell_type": "code",
   "execution_count": 45,
   "id": "7facf8c7",
   "metadata": {},
   "outputs": [
    {
     "name": "stdout",
     "output_type": "stream",
     "text": [
      "✅ Colored alignment saved to: /home/hp/nayanika/github/GPX6/analysis/structure/clustalo-I20250513-124120-0721-98866692-p1m.aln-clustal_num_colored_no_headers.html\n"
     ]
    }
   ],
   "source": [
    "from Bio import AlignIO\n",
    "\n",
    "msa_file = \"/home/hp/nayanika/github/GPX6/analysis/structure/clustalo-I20250513-124120-0721-98866692-p1m.aln-clustal_num\"\n",
    "positions_to_mark = [3, 4, 48, 52, 47, 99, 54, 177, 144, 178, 74, 143, 139, 87, 142, 102, 104, 107, 24, 60, 181, 173]\n",
    "output_html = msa_file + \"_colored_no_headers.html\"\n",
    "\n",
    "color_palette = [\n",
    "    \"#E41A1C\", \"#377EB8\", \"#4DAF4A\", \"#984EA3\", \"#FF7F00\", \"#FFFF33\",\n",
    "    \"#A65628\", \"#F781BF\", \"#1B9E77\", \"#D95F02\", \"#7570B3\", \"#66A61E\"\n",
    "]\n",
    "position_colors = {pos: color_palette[i % len(color_palette)] for i, pos in enumerate(positions_to_mark)}\n",
    "\n",
    "def color_aligned_sequence(aligned_seq, mark_positions, color_dict):\n",
    "    result = \"\"\n",
    "    orig_pos = 0\n",
    "    for aa in aligned_seq:\n",
    "        if aa != \"-\":\n",
    "            orig_pos += 1\n",
    "        if orig_pos in mark_positions:\n",
    "            color = color_dict[orig_pos]\n",
    "            result += f\"<span style='background-color:{color}; color:white; font-weight:bold'>{aa}</span>\"\n",
    "        else:\n",
    "            result += aa\n",
    "    return result\n",
    "\n",
    "alignment = AlignIO.read(msa_file, \"clustal\")\n",
    "\n",
    "with open(output_html, \"w\") as f:\n",
    "    f.write(\"\"\"<!DOCTYPE html>\n",
    "<html>\n",
    "<head>\n",
    "    <title>MSA Highlighted</title>\n",
    "    <style>\n",
    "        body { font-family: monospace; background: #f5f5f5; padding: 20px; }\n",
    "        pre { margin: 0; white-space: pre-wrap; word-break: break-all; }\n",
    "    </style>\n",
    "</head>\n",
    "<body>\n",
    "<h2>MSA Highlighted Mutant Positions</h2>\n",
    "<div class=\"msa\">\n",
    "\"\"\")\n",
    "\n",
    "    for record in alignment:\n",
    "        colored_seq = color_aligned_sequence(str(record.seq), positions_to_mark, position_colors)\n",
    "        f.write(f\"<pre>{colored_seq}</pre>\\n\")\n",
    "\n",
    "    f.write(\"\"\"\n",
    "</div>\n",
    "</body>\n",
    "</html>\"\"\")\n",
    "\n",
    "print(f\"✅ Colored alignment saved to: {output_html}\")\n"
   ]
  }
 ],
 "metadata": {
  "kernelspec": {
   "display_name": "base",
   "language": "python",
   "name": "python3"
  },
  "language_info": {
   "codemirror_mode": {
    "name": "ipython",
    "version": 3
   },
   "file_extension": ".py",
   "mimetype": "text/x-python",
   "name": "python",
   "nbconvert_exporter": "python",
   "pygments_lexer": "ipython3",
   "version": "3.12.9"
  }
 },
 "nbformat": 4,
 "nbformat_minor": 5
}
