{
 "cells": [
  {
   "cell_type": "code",
   "execution_count": 1,
   "metadata": {},
   "outputs": [],
   "source": [
    "import matplotlib.pyplot as plt\n",
    "import json\n",
    "import math\n",
    "\n",
    "# Load data from JSON file\n",
    "with open('qaf.PlotData.json', 'r') as f:\n",
    "    data = json.load(f)\n",
    "\n",
    "# Define colors for each subplot\n",
    "colors = ['maroon', 'blue', 'green', 'purple', 'red']  # Add more colors if needed\n",
    "\n",
    "# Determine the number of plots\n",
    "num_plots = len(data)\n",
    "\n",
    "# Define the maximum number of subplots per row\n",
    "max_cols = 4  # Adjust this based on how many you want per row\n",
    "num_rows = math.ceil(num_plots / max_cols)  # Calculate number of rows needed\n",
    "\n",
    "# Create a figure with multiple subplots arranged in grid (rows and columns)\n",
    "fig, axes = plt.subplots(num_rows, max_cols, figsize=(30, 10 * num_rows))  # Increase the width to 30\n",
    "\n",
    "# Flatten axes to handle both single and multiple row scenarios\n",
    "axes = axes.flatten()\n",
    "\n",
    "# Iterate over each plot in the data and assign a subplot\n",
    "for ax, (key, value) in zip(axes, data.items()):\n",
    "    # Iterate over each subplot within the plot\n",
    "    for i, (subplot_key, subplot_value) in enumerate(value['subplots'].items()):\n",
    "        x = subplot_value['xdata']\n",
    "        y = subplot_value['ydata']\n",
    "\n",
    "        # Plot the data without labels, legends to save time\n",
    "        ax.plot(x, y, color=colors[i % len(colors)])\n",
    "    \n",
    "    # Set the title for each plot based on the JSON file\n",
    "    ax.set_title(value.get('title', 'No Title'), fontsize=12)  # Default title if missing\n",
    "\n",
    "# Hide any unused subplots (if num_plots < num_rows * max_cols)\n",
    "for ax in axes[num_plots:]:\n",
    "    ax.set_visible(False)\n",
    "\n",
    "# Manually adjust subplot spacing\n",
    "plt.subplots_adjust(left=0.05, right=0.95, top=0.95, bottom=0.05, wspace=0.3, hspace=0.4)\n",
    "\n",
    "# Save the figure with a reduced DPI (lower than 100) to speed up saving\n",
    "plt.savefig('mousecysWT.png', dpi=50)  # Further reduce DPI for faster saving\n",
    "\n",
    "# Close the figure to free memory\n",
    "plt.close(fig)\n"
   ]
  }
 ],
 "metadata": {
  "kernelspec": {
   "display_name": "AmberTools22",
   "language": "python",
   "name": "python3"
  },
  "language_info": {
   "codemirror_mode": {
    "name": "ipython",
    "version": 3
   },
   "file_extension": ".py",
   "mimetype": "text/x-python",
   "name": "python",
   "nbconvert_exporter": "python",
   "pygments_lexer": "ipython3",
   "version": "3.8.18"
  }
 },
 "nbformat": 4,
 "nbformat_minor": 2
}
