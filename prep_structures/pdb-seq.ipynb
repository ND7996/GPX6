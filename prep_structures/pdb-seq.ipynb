{
 "cells": [
  {
   "cell_type": "code",
   "execution_count": 1,
   "metadata": {},
   "outputs": [
    {
     "ename": "ModuleNotFoundError",
     "evalue": "No module named 'Bio'",
     "output_type": "error",
     "traceback": [
      "\u001b[31m---------------------------------------------------------------------------\u001b[39m",
      "\u001b[31mModuleNotFoundError\u001b[39m                       Traceback (most recent call last)",
      "\u001b[36mCell\u001b[39m\u001b[36m \u001b[39m\u001b[32mIn[1]\u001b[39m\u001b[32m, line 1\u001b[39m\n\u001b[32m----> \u001b[39m\u001b[32m1\u001b[39m \u001b[38;5;28;01mfrom\u001b[39;00m\u001b[38;5;250m \u001b[39m\u001b[34;01mBio\u001b[39;00m\u001b[34;01m.\u001b[39;00m\u001b[34;01mPDB\u001b[39;00m\u001b[38;5;250m \u001b[39m\u001b[38;5;28;01mimport\u001b[39;00m PDBParser\n\u001b[32m      2\u001b[39m \u001b[38;5;28;01mfrom\u001b[39;00m\u001b[38;5;250m \u001b[39m\u001b[34;01mBio\u001b[39;00m\u001b[34;01m.\u001b[39;00m\u001b[34;01mSeqUtils\u001b[39;00m\u001b[38;5;250m \u001b[39m\u001b[38;5;28;01mimport\u001b[39;00m seq1\n\u001b[32m      4\u001b[39m \u001b[38;5;28;01mdef\u001b[39;00m\u001b[38;5;250m \u001b[39m\u001b[34mpdb_to_seq_with_length\u001b[39m(pdb_file, chain_id):\n",
      "\u001b[31mModuleNotFoundError\u001b[39m: No module named 'Bio'"
     ]
    }
   ],
   "source": [
    "from Bio.PDB import PDBParser\n",
    "from Bio.SeqUtils import seq1\n",
    "\n",
    "def pdb_to_seq_with_length(pdb_file, chain_id):\n",
    "    \"\"\"\n",
    "    Extract the sequence and length of a specific chain from a PDB file.\n",
    "\n",
    "    Parameters:\n",
    "    - pdb_file (str): Path to the PDB file.\n",
    "    - chain_id (str): The chain identifier to extract the sequence.\n",
    "\n",
    "    Returns:\n",
    "    - tuple: A tuple containing the sequence as a one-letter code string and its length.\n",
    "    \"\"\"\n",
    "    parser = PDBParser(QUIET=True)\n",
    "    structure = parser.get_structure(\"structure\", pdb_file)\n",
    "\n",
    "    sequence = []\n",
    "    print(\"=== Debugging Output ===\")\n",
    "    for model in structure:\n",
    "        for chain in model:\n",
    "            print(f\"Found chain: {chain.id}\")  # Print all chains in the structure\n",
    "            if chain.id == chain_id:\n",
    "                print(f\"Processing chain {chain_id}\")\n",
    "                for residue in chain:\n",
    "                    print(f\"Residue ID: {residue.id}, Residue Name: {residue.get_resname()}\")\n",
    "                    if residue.id[0] == \" \":  # Only consider standard residues\n",
    "                        residue_name = residue.get_resname()\n",
    "                        try:\n",
    "                            one_letter = seq1(residue_name)\n",
    "                            sequence.append(one_letter)\n",
    "                            print(f\"Converted {residue_name} to {one_letter}\")\n",
    "                        except KeyError:\n",
    "                            print(f\"Skipping unknown residue: {residue_name}\")\n",
    "                break  # Stop after finding the correct chain\n",
    "        if sequence:  # Stop if the chain is found and processed\n",
    "            break\n",
    "\n",
    "    seq_str = \"\".join(sequence)\n",
    "    print(\"=== End of Debugging Output ===\")\n",
    "    return seq_str, len(seq_str)\n",
    "\n",
    "# Example usage\n",
    "pdb_file_path = \"original_mousecys.pdb\"  # Replace with your PDB file path\n",
    "chain_identifier = \"X\"  # Replace with the desired chain ID\n",
    "sequence, length = pdb_to_seq_with_length(pdb_file_path, chain_identifier)\n",
    "\n",
    "print(f\"\\nSequence for chain {chain_identifier}: {sequence}\")\n",
    "print(f\"Length of the sequence: {length}\")\n"
   ]
  }
 ],
 "metadata": {
  "kernelspec": {
   "display_name": "openMM",
   "language": "python",
   "name": "python3"
  },
  "language_info": {
   "codemirror_mode": {
    "name": "ipython",
    "version": 3
   },
   "file_extension": ".py",
   "mimetype": "text/x-python",
   "name": "python",
   "nbconvert_exporter": "python",
   "pygments_lexer": "ipython3",
   "version": "3.13.2"
  }
 },
 "nbformat": 4,
 "nbformat_minor": 2
}
